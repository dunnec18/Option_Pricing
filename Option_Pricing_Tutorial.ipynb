{
 "cells": [
  {
   "cell_type": "markdown",
   "id": "bafa5f13",
   "metadata": {},
   "source": [
    "# Numerical Methods Individual Project\n",
    "# Conor Dunne "
   ]
  },
  {
   "cell_type": "code",
   "execution_count": 1,
   "id": "d2addaf2",
   "metadata": {},
   "outputs": [],
   "source": [
    "import numpy as np\n",
    "import scipy.stats as si\n",
    "import matplotlib.pyplot as plt\n",
    "from scipy.interpolate import interp1d\n",
    "import scipy"
   ]
  },
  {
   "cell_type": "markdown",
   "id": "a3c6b875",
   "metadata": {},
   "source": [
    "# Introduction\n",
    "\n",
    "We investigate the various methods of pricing amercian options, calls and puts, with and without the presence of dividends. The methods employed are the binomial tree pricing, aswell as explicit and implicit finite-difference methods. We further use various implicit methods, including the LU-decompostition, the Gauss-Seidel emthod, and finally the Gauss-Seidel method with successive over relaxation."
   ]
  },
  {
   "cell_type": "markdown",
   "id": "e41736e7",
   "metadata": {},
   "source": [
    "# Methodology\n",
    "\n",
    "## Black-Scholes European Option Pricing"
   ]
  },
  {
   "cell_type": "code",
   "execution_count": 2,
   "id": "64538a86",
   "metadata": {},
   "outputs": [],
   "source": [
    "def bs_price(S, K, r, T, sigma, option = 'call'):\n",
    "    d1 = (np.log(S/K)+(r+0.5*sigma**2)*T)/(sigma*np.sqrt(T))\n",
    "    d2 = (np.log(S/K)+(r-0.5*sigma**2)*T)/(sigma*np.sqrt(T))\n",
    "    if option == 'call':\n",
    "        result = (S*si.norm.cdf(d1, 0.0, 1.0) - K*np.exp(-r*T)*si.norm.cdf(d2, 0.0, 1.0))\n",
    "    if option == 'put':\n",
    "        result = (K*np.exp(-r*T)*si.norm.cdf(-d2, 0.0, 1.0) - S*si.norm.cdf(-d1, 0.0, 1.0))\n",
    "    return result"
   ]
  },
  {
   "cell_type": "markdown",
   "id": "032d41b9",
   "metadata": {},
   "source": [
    "## Binomial Tree American Option Pricing"
   ]
  },
  {
   "cell_type": "code",
   "execution_count": 3,
   "id": "a16d316f",
   "metadata": {},
   "outputs": [],
   "source": [
    "def Binomial_American_Option_Dividend(S, K, r, T, sigma, dividend=0, dividend_time=0, n=1000, option='call'): \n",
    "    deltaT=T/n\n",
    "    u=np.exp(sigma * np.sqrt(deltaT))\n",
    "    d=1.0 / u\n",
    "    a = np.exp(r*deltaT)\n",
    "    q=(a-d) / (u-d)\n",
    "    Sv = np.zeros((n,n))\n",
    "    V = np.zeros((n,n))\n",
    "    # Build stock price matrix forward \n",
    "    for j in range(n):\n",
    "        for i in range(j+1):\n",
    "            #Account for dividend\n",
    "            Sv[i,j] = (S-S*dividend*np.exp(-r * (T - dividend_time)))*(u**i)*(d**(j-i))\n",
    "                \n",
    "            \n",
    "                \n",
    "            \n",
    "            \n",
    "    if option == 'call': \n",
    "        CorP = 1\n",
    "    elif option == 'put': \n",
    "        CorP = -1\n",
    "    V[:,:] = np.maximum((Sv[:,:]-K)*CorP,0)\n",
    "    # Price option with backward induction \n",
    "    for j in reversed(range(n-1)):\n",
    "        for i in range(j+1): \n",
    "            V[i,j]=np.maximum(V[i,j],np.exp(-r*deltaT)*(q*V[i+1,j+1]+(1.0-q)*V[i,j+1]))\n",
    "    return V[0,0]"
   ]
  },
  {
   "cell_type": "markdown",
   "id": "cc07797d",
   "metadata": {},
   "source": [
    "## Explicit Finite-Difference Method American Option Pricing"
   ]
  },
  {
   "cell_type": "code",
   "execution_count": 4,
   "id": "a943b3a8",
   "metadata": {},
   "outputs": [],
   "source": [
    "def American_Option_Explicit_Dividend(S, K, r, T, sigma, Smax, dS, dt, option='put', dividend_time=0, dividend=0):\n",
    "    M = int(np.round(Smax/dS))\n",
    "    dS = Smax/M\n",
    "    N = int(np.round(T/dt))\n",
    "    dt = T/N\n",
    "    V = np.zeros((M+1,N+1))\n",
    "    Sv = np.linspace(0,Smax, M+1)\n",
    "    iv = np.arange(M+1)\n",
    "    jv = np.arange(N+1)\n",
    "    \n",
    "    PV_dividend = S*dividend* np.exp(-r * (T - dividend_time))\n",
    "    if option == 'put':\n",
    "        V[:,-1] = np.maximum(K-Sv+PV_dividend,0)\n",
    "        V[0,:] = (K)*np.exp(-r*dt*(N-jv))\n",
    "        V[M,:] = 0\n",
    "        sign = -1\n",
    "    elif option == 'call':\n",
    "        V[:,-1] = np.maximum(Sv - PV_dividend -K,0)\n",
    "        V[0,:] = 0\n",
    "        V[M,:] = Smax - K*np.exp(-r*dt*(N-jv))\n",
    "        sign = 1\n",
    "    \n",
    "    a = 0.5*dt*((sigma**2)*iv - r)*iv\n",
    "    b = 1-dt*((sigma**2)*(iv**2) + r)\n",
    "    c = 0.5*dt*((sigma**2)*iv + r)*iv\n",
    "    \n",
    "    for j in reversed(np.arange(N)):\n",
    "        for i in np.arange(1,M): # i goes from 1,..., M-1\n",
    "            V[i,j] = np.maximum(a[i]*V[i-1,j+1]+b[i]*V[i,j+1]+c[i]*V[i+1,j+1],(Sv[i]-K-PV_dividend)*sign)\n",
    "            \n",
    "    f_interp = interp1d(Sv, V[:,0], kind = 'cubic') # Scipy interpolation\n",
    "    price = f_interp(S) # Scipy interpolation\n",
    "    return [Sv, V[:,0], price]"
   ]
  },
  {
   "cell_type": "markdown",
   "id": "6f7d24ca",
   "metadata": {},
   "source": [
    "## Implicit Finite-Difference Methods for American Option Pricing\n",
    "\n",
    "### LU-Decomposition"
   ]
  },
  {
   "cell_type": "code",
   "execution_count": 5,
   "id": "7e73dc5b",
   "metadata": {},
   "outputs": [],
   "source": [
    "def American_Option_Implicit_LU(S, K, r, T, sigma, Smax, dS, dt, option='put'):\n",
    "    M = int(np.round(Smax/dS))\n",
    "    dS = Smax/M\n",
    "    N = int(np.round(T/dt))\n",
    "    dt = T/N\n",
    "    V = np.zeros((M+1,N+1))\n",
    "    Sv = np.linspace(0,Smax, M+1)\n",
    "    iv = np.arange(M+1)\n",
    "    jv = np.arange(N+1)\n",
    "    \n",
    "    #Set up boundary conditions\n",
    "    if option == 'put':\n",
    "        V[:,-1] = np.maximum(K-Sv,0)\n",
    "        V[0,:] = K*np.exp(-r*dt*(N-jv))\n",
    "        V[M,:] = 0\n",
    "        sign = -1\n",
    "    elif option == 'call':\n",
    "        V[:,-1] = np.maximum(Sv-K,0)\n",
    "        V[0,:] = 0\n",
    "        V[M,:] = Smax - K*np.exp(-r*dt*(N-jv))\n",
    "        sign = 1\n",
    "    \n",
    "    # Set up tridiagonal coefficient matrix\n",
    "    a = -0.5*dt*((sigma**2)*iv - r)*iv\n",
    "    b = 1+dt*((sigma**2)*(iv**2) + r)\n",
    "    c = -0.5*dt*((sigma**2)*iv + r)*iv\n",
    "    \n",
    "    coef_mat =np.diag(a[2:M],-1)+np.diag(b[1:M])+np.diag(c[1:M-1],1)\n",
    "    LU, P = scipy.linalg.lu_factor(coef_mat)\n",
    "    bc = np.zeros(M-1)\n",
    "    \n",
    "    for j in reversed(np.arange(N)):\n",
    "        bc[0] = -a[1]*V[0,j]\n",
    "        bc[M-2] = -c[M-1]*V[M,j]\n",
    "    # Solve linear system A*V[1:M-1,j] = b with LU\n",
    "        V[1:M,j] = scipy.linalg.lu_solve((LU, P),V[1:M,j+1]+bc)\n",
    "        V[1:M,j] = np.maximum(V[1:M,j],sign*(Sv[1:M]-K))\n",
    "        \n",
    "    f_interp = interp1d(Sv, V[:,0], kind = 'cubic') # Scipy interpolation\n",
    "    price = f_interp(S) # Scipy interpolation\n",
    "    return [Sv, V[:,0], price]"
   ]
  },
  {
   "cell_type": "markdown",
   "id": "0b250699",
   "metadata": {},
   "source": [
    "### Gauss-Seidel"
   ]
  },
  {
   "cell_type": "code",
   "execution_count": 6,
   "id": "13ac6a5c",
   "metadata": {},
   "outputs": [],
   "source": [
    "def GaussSeidel(A, b, x0, epsil, MaxIter, exercise):\n",
    "    x = x0\n",
    "    N = len(b)\n",
    "  \n",
    "    for k in range(1,MaxIter):\n",
    "        x_new = np.zeros(N)\n",
    "        for i in range(N):\n",
    "            s1 = np.dot(A[i, :i], x_new[:i])\n",
    "            s2 = np.dot(A[i, i+1:], x[i+1:])\n",
    "            x_new[i] = np.maximum(exercise[i],(b[i] - s1 - s2)/A[i,i])\n",
    "        if np.allclose(x, x_new, rtol=epsil):\n",
    "            break\n",
    "        x=x_new    \n",
    "    return x"
   ]
  },
  {
   "cell_type": "code",
   "execution_count": 7,
   "id": "b14ae282",
   "metadata": {},
   "outputs": [],
   "source": [
    "def American_Option_Implicit_GS_Dividend(S, K, r, T, sigma, Smax, dS, dt, epsil, MaxIter, option='put', dividend_time=0, dividend=0):\n",
    "    M = int(np.round(Smax/dS))\n",
    "    dS = Smax/M\n",
    "    N = int(np.round(T/dt))\n",
    "    dt = T/N\n",
    "    V = np.zeros((M+1,N+1))\n",
    "    Sv = np.linspace(0,Smax, M+1)\n",
    "    iv = np.arange(M+1)\n",
    "    jv = np.arange(N+1)\n",
    "    \n",
    "    PV_dividend = S*dividend*np.exp(-r * (T - dividend_time))\n",
    "    #Set up boundary conditions\n",
    "    if option == 'put':\n",
    "        V[:,-1] = np.maximum(K-Sv+PV_dividend,0)\n",
    "        V[0,:] = K*np.exp(-r*dt*(N-jv))\n",
    "        V[M,:] = 0\n",
    "        sign = -1\n",
    "    elif option == 'call':\n",
    "        V[:,-1] = np.maximum(Sv-K-PV_dividend,0)\n",
    "        V[0,:] = 0\n",
    "        V[M,:] = Smax - K*np.exp(-r*dt*(N-jv))\n",
    "        sign = 1\n",
    "    \n",
    "    # Set up tridiagonal coefficient matrix\n",
    "    a = -0.5*dt*((sigma**2)*iv - r)*iv\n",
    "    b = 1+dt*((sigma**2)*(iv**2) + r)\n",
    "    c = -0.5*dt*((sigma**2)*iv + r)*iv\n",
    "    \n",
    "    coef_mat =np.diag(a[2:M],-1)+np.diag(b[1:M])+np.diag(c[1:M-1],1)\n",
    "    LU, P = scipy.linalg.lu_factor(coef_mat)\n",
    "    bc = np.zeros(M-1)\n",
    "    \n",
    "    for j in reversed(np.arange(N)):\n",
    "        bc[0] = -a[1]*V[0,j] + PV_dividend\n",
    "        bc[M-2] = -c[M-1]*V[M,j] + PV_dividend\n",
    "    # Solve linear system A*V[1:M-1,j] = b with LU\n",
    "        # Solve linear system A*V[1:M-1,j] = b with Gauss Seidel\n",
    "        exercise = sign*(Sv[1:M]-K - PV_dividend)\n",
    "        \n",
    "        V[1:M, j] = GaussSeidel(coef_mat, V[1:M, j+1] + bc, np.zeros((M-1,1)), epsil, MaxIter,exercise)\n",
    "        #Early exercise option in valuation \n",
    "        #for m in range(0,M):\n",
    "            #V[m,j]=np.maximum(sign*(Sv[m]-K),V[m,j])\n",
    "            \n",
    "    f_interp = interp1d(Sv, V[:,0], kind = 'cubic') # Scipy interpolation\n",
    "    price = f_interp(S) # Scipy interpolation\n",
    "    return [Sv, V[:,0], price]"
   ]
  },
  {
   "cell_type": "markdown",
   "id": "600db7ae",
   "metadata": {},
   "source": [
    "### Gauss-Seidel with Successive Over Relaxation"
   ]
  },
  {
   "cell_type": "code",
   "execution_count": 8,
   "id": "57e6668b",
   "metadata": {},
   "outputs": [],
   "source": [
    "def SORGaussSeidel(A, b, x0, omega, epsil, MaxIter, exercise):\n",
    "    x = x0\n",
    "    N = len(b)\n",
    "    for k in range(1,MaxIter):\n",
    "        x_new = np.zeros(N)\n",
    "        for i in range(N):\n",
    "            s1 = np.dot(A[i, :i], x_new[:i])\n",
    "            s2 = np.dot(A[i, i+1:], x[i+1:])\n",
    "            z = (b[i] - s1 - s2)/A[i,i]\n",
    "            x_new[i] = np.maximum(exercise[i],omega*z + (1-omega)*x[i])\n",
    "        if np.allclose(x, x_new, rtol=epsil):\n",
    "            break\n",
    "        x = x_new\n",
    "    return [x,k]"
   ]
  },
  {
   "cell_type": "code",
   "execution_count": 9,
   "id": "932f94b8",
   "metadata": {},
   "outputs": [],
   "source": [
    "def American_Option_Implicit_GS_SOR(S, K, r, T, sigma, Smax, dS, dt, omega, epsil, MaxIter, option='put'):\n",
    "    M = int(np.round(Smax/dS))\n",
    "    dS = Smax/M\n",
    "    N = int(np.round(T/dt))\n",
    "    dt = T/N\n",
    "    V = np.zeros((M+1,N+1))\n",
    "    Sv = np.linspace(0,Smax, M+1)\n",
    "    iv = np.arange(M+1)\n",
    "    jv = np.arange(N+1)\n",
    "    \n",
    "    #Set up boundary conditions\n",
    "    if option == 'put':\n",
    "        V[:,-1] = np.maximum(K-Sv,0)\n",
    "        V[0,:] = K*np.exp(-r*dt*(N-jv))\n",
    "        V[M,:] = 0\n",
    "        sign = -1\n",
    "    elif option == 'call':\n",
    "        V[:,-1] = np.maximum(Sv-K,0)\n",
    "        V[0,:] = 0\n",
    "        V[M,:] = Smax - K*np.exp(-r*dt*(N-jv))\n",
    "        sign = 1\n",
    "    \n",
    "    # Set up tridiagonal coefficient matrix\n",
    "    a = -0.5*dt*((sigma**2)*iv - r)*iv\n",
    "    b = 1+dt*((sigma**2)*(iv**2) + r)\n",
    "    c = -0.5*dt*((sigma**2)*iv + r)*iv\n",
    "    \n",
    "    coef_mat =np.diag(a[2:M],-1)+np.diag(b[1:M])+np.diag(c[1:M-1],1)\n",
    "    LU, P = scipy.linalg.lu_factor(coef_mat)\n",
    "    bc = np.zeros(M-1)\n",
    "    \n",
    "    for j in reversed(np.arange(N)):\n",
    "        bc[0] = -a[1]*V[0,j]\n",
    "        bc[M-2] = -c[M-1]*V[M,j]\n",
    "    # Solve linear system A*V[1:M-1,j] = b with LU\n",
    "        # Solve linear system A*V[1:M-1,j] = b with Gauss Seidel\n",
    "        exercise = sign*(Sv[1:M]-K)\n",
    "        V[1:M, j] = SORGaussSeidel(coef_mat, V[1:M, j+1] + bc, np.zeros((M-1,1)), omega, epsil, MaxIter, exercise)[0]\n",
    "        #Early exercise option in valuation \n",
    "        #for m in range(0,M):\n",
    "            #V[m,j]=np.maximum(sign*(Sv[m]-K),V[m,j])\n",
    "            \n",
    "    f_interp = interp1d(Sv, V[:,0], kind = 'cubic') # Scipy interpolation\n",
    "    price = f_interp(S) # Scipy interpolation\n",
    "    return [Sv, V[:,0], price]"
   ]
  },
  {
   "cell_type": "markdown",
   "id": "5221f555",
   "metadata": {},
   "source": [
    "# Results\n",
    "\n",
    "We first consider American call and put options written on a non-dividend paying stock. Assuming the stock price follows geometric Brownian motion with an initial stock price of $S = 1000$ and with an instantaneous volatility of $σ = 30\\%$. We also take the continuously compounded interest rate to be constant at r = 6%, and let the option strike price be $K = 1050$ with a time-to-maturity of three months. In the last section we will examine the introduction of a dividend payment."
   ]
  },
  {
   "cell_type": "code",
   "execution_count": 10,
   "id": "eb06b01c",
   "metadata": {},
   "outputs": [],
   "source": [
    "S = 1000\n",
    "sigma = 0.3\n",
    "r = 0.06\n",
    "K = 1050\n",
    "T = 0.25"
   ]
  },
  {
   "cell_type": "markdown",
   "id": "19982daf",
   "metadata": {},
   "source": [
    "## Binomial Tree Pricing\n",
    "\n",
    "To check if our binomial tree pricing model is working, we can compare the price of an American Call option using this method against a European Call option priced via Black-Scholes. We expect these quantitites to be equal as it is known that early exercising an American call option is sub-optimal compared to exercising the contract at maturity."
   ]
  },
  {
   "cell_type": "code",
   "execution_count": 25,
   "id": "ac9db885",
   "metadata": {},
   "outputs": [
    {
     "name": "stdout",
     "output_type": "stream",
     "text": [
      "American Call Price =  45.13817091623564 \n",
      "\n",
      "Black-Scholes European Call Price =  45.162288763955075 \n",
      "\n",
      "American Binomial Call Error =  0.053402625020827287 %\n"
     ]
    }
   ],
   "source": [
    "binomial_american_call = Binomial_American_Option_Dividend(S, K, r, T, sigma, dividend=0, dividend_time=0, n=1000, option='call')\n",
    "\n",
    "print(\"American Call Price = \",binomial_american_call, \"\\n\")\n",
    "\n",
    "black_scholes_european_call = bs_price(S, K, r, T, sigma, option='call')\n",
    "\n",
    "print(\"Black-Scholes European Call Price = \",black_scholes_european_call, \"\\n\")\n",
    "\n",
    "print(\"American Binomial Call Error = \", (np.sqrt((black_scholes_european_call-binomial_american_call)**2)/black_scholes_european_call)*100, \"%\")"
   ]
  },
  {
   "cell_type": "markdown",
   "id": "278034c9",
   "metadata": {},
   "source": [
    "For $n=100$ we find an error of $0.85\\%$. For $n=1000$ we find an error of $0.05\\%$, a significant improvement. Beyond $n=1000$, little improvement is found. "
   ]
  },
  {
   "cell_type": "markdown",
   "id": "3e3b642c",
   "metadata": {},
   "source": [
    "Now we can price the put option, setting $n=1000$ "
   ]
  },
  {
   "cell_type": "code",
   "execution_count": 28,
   "id": "061e0813",
   "metadata": {},
   "outputs": [
    {
     "name": "stdout",
     "output_type": "stream",
     "text": [
      "American Put Price =  81.78801197453275 \n",
      "\n",
      "Black-Scholes European Put Price =  79.5298253471708 \n",
      "\n"
     ]
    }
   ],
   "source": [
    "binomial_american_put = Binomial_American_Option_Dividend(S, K, r, T, sigma, dividend=0, dividend_time=0, n=1000, option='put')\n",
    "\n",
    "print(\"American Put Price = \",binomial_american_put, \"\\n\")\n",
    "\n",
    "black_scholes_european_put = bs_price(S, K, r, T, sigma, option='put')\n",
    "\n",
    "print(\"Black-Scholes European Put Price = \",black_scholes_european_put, \"\\n\")"
   ]
  },
  {
   "cell_type": "markdown",
   "id": "27fa630f",
   "metadata": {},
   "source": [
    "We find an increased price reative to the European Put, due to the opportunity for early exercise of the contract."
   ]
  },
  {
   "cell_type": "markdown",
   "id": "e980f6e6",
   "metadata": {},
   "source": [
    "## Explicit and Implicit Finite-Difference Methods\n",
    "\n",
    "Here we investigate the various finite-different methods, implicit and explicit, and their convergence when changing the time-to-maturity and stock price grid resolutions. Again we can compare the American call option pricing to the European Call Black-Scholes pricing as a measure of error.\n",
    "\n",
    "### Finding $\\omega$\n",
    "Before beginning this analysis, we should find an appropriate parameter $\\omega$ for faster convergence in the successive over relaxation mathod. To find this, we will decrease the maximum iterations for Gauss-Seidel and measure an error against the Black-Scholes formula for various values of $\\omega$"
   ]
  },
  {
   "cell_type": "code",
   "execution_count": 51,
   "id": "6c058b76",
   "metadata": {},
   "outputs": [
    {
     "data": {
      "text/plain": [
       "Text(0, 0.5, 'Error')"
      ]
     },
     "execution_count": 51,
     "metadata": {},
     "output_type": "execute_result"
    },
    {
     "data": {
      "image/png": "[encoded data removed]",
      "text/plain": [
       "<Figure size 640x480 with 1 Axes>"
      ]
     },
     "metadata": {},
     "output_type": "display_data"
    }
   ],
   "source": [
    "option = 'call'\n",
    "\n",
    "if option == 'put':\n",
    "    sign = -1\n",
    "elif option == 'call':\n",
    "    sign = 1\n",
    "\n",
    "epsil = 1e-6\n",
    "MaxIter = 10\n",
    "\n",
    "Smax = 2000\n",
    "dS = 40\n",
    "dt = 0.25*T/100\n",
    "\n",
    "price_bs = bs_price(S, K, r, T, sigma, option)\n",
    "\n",
    "omega_array = np.arange(0.0,1.5,0.1)\n",
    "error_array = []\n",
    "\n",
    "for omega in omega_array:\n",
    "    Put_IFD = American_Option_Implicit_GS_SOR(S, K, r, T, sigma, Smax, dS, dt, omega, epsil,MaxIter,option)\n",
    "    S_IFD = Put_IFD[0]\n",
    "    f_IFD = Put_IFD[1]\n",
    "    price_IFD = Put_IFD[2]\n",
    "    error_array.append(np.sqrt((price_IFD-price_bs)**2)/price_bs)\n",
    "\n",
    "error_array = np.array(error_array)\n",
    "plt.figure()\n",
    "plt.plot(omega_array, error_array)\n",
    "plt.xlabel(r'$\\omega$')\n",
    "plt.ylabel('Error')"
   ]
  },
  {
   "cell_type": "markdown",
   "id": "e50b4767",
   "metadata": {},
   "source": [
    "We see that an $0.8 <\\approx \\omega <\\approx 1.3 $ give an appropriate value. We will choose $\\omega = 0.8$ for the proceeding work"
   ]
  },
  {
   "cell_type": "markdown",
   "id": "90730f82",
   "metadata": {},
   "source": [
    "### Adjusting the Resolution of the Price Grid\n",
    "\n",
    "Here we fix the time grid resolution and vary that of the stock price. We investigate the stability and accuracy of the various finite-difference methods.\n",
    "\n",
    "We first investigate the stabbility of the explicit approach:"
   ]
  },
  {
   "cell_type": "code",
   "execution_count": 60,
   "id": "dc668697",
   "metadata": {},
   "outputs": [
    {
     "data": {
      "image/png": "[encoded data removed]",
      "text/plain": [
       "<Figure size 640x480 with 1 Axes>"
      ]
     },
     "metadata": {},
     "output_type": "display_data"
    }
   ],
   "source": [
    "option = 'call'\n",
    "\n",
    "if option == 'put':\n",
    "    sign = -1\n",
    "elif option == 'call':\n",
    "    sign = 1\n",
    "\n",
    "omega = 0.8\n",
    "epsil = 1e-6\n",
    "MaxIter = 1000\n",
    "\n",
    "Smax = 2000\n",
    "dt = T/100\n",
    "\n",
    "price_bs = bs_price(S, K, r, T, sigma, option)\n",
    "\n",
    "dS_array = np.arange(10,100,10)\n",
    "\n",
    "error_array_Explicit = []\n",
    "error_array_LU = []\n",
    "error_array_GS = []\n",
    "error_array_GS_SOR = []\n",
    "\n",
    "for dS in dS_array:\n",
    "    Call_Explicit = American_Option_Explicit_Dividend(S, K, r, T, sigma, Smax, dS, dt, option, dividend_time=0, dividend=0)[2]\n",
    "    error_array_Explicit.append(np.sqrt((Call_Explicit-price_bs)**2)/price_bs)\n",
    "\n",
    "plt.figure()\n",
    "plt.plot(dS_array, error_array_Explicit, label='Explicit')\n",
    "plt.xlabel(r'$dS$')\n",
    "plt.ylabel('Error')\n",
    "plt.legend()\n",
    "plt.show()"
   ]
  },
  {
   "cell_type": "markdown",
   "id": "0bab641e",
   "metadata": {},
   "source": [
    "We see that below $dS = 20$ the explicit method experiences significant instability, which is expected. Now, we investigate the implicit methods."
   ]
  },
  {
   "cell_type": "code",
   "execution_count": 66,
   "id": "77f6ca3e",
   "metadata": {},
   "outputs": [
    {
     "data": {
      "image/png": "[encoded data removed]",
      "text/plain": [
       "<Figure size 640x480 with 1 Axes>"
      ]
     },
     "metadata": {},
     "output_type": "display_data"
    }
   ],
   "source": [
    "option = 'call'\n",
    "\n",
    "if option == 'put':\n",
    "    sign = -1\n",
    "elif option == 'call':\n",
    "    sign = 1\n",
    "\n",
    "omega = 0.8\n",
    "epsil = 1e-6\n",
    "MaxIter = 1000\n",
    "\n",
    "Smax = 2000\n",
    "dt = T/100\n",
    "\n",
    "price_bs = bs_price(S, K, r, T, sigma, option)\n",
    "\n",
    "dS_array = np.arange(10,100,10)\n",
    "\n",
    "error_array_Explicit = []\n",
    "error_array_LU = []\n",
    "error_array_GS = []\n",
    "error_array_GS_SOR = []\n",
    "\n",
    "for dS in dS_array:\n",
    "    Call_LU = American_Option_Implicit_LU(S, K, r, T, sigma, Smax, dS, dt, option)[2]\n",
    "    Call_GS = American_Option_Implicit_GS_Dividend(S, K, r, T, sigma, Smax, dS, dt, epsil, MaxIter, option, dividend_time=0, dividend=0)[2]\n",
    "    Call_GS_SOR = American_Option_Implicit_GS_SOR(S, K, r, T, sigma, Smax, dS, dt, omega, epsil,MaxIter,option)[2]\n",
    "    \n",
    "    \n",
    "    error_array_LU.append(np.sqrt((Call_LU-price_bs)**2)/price_bs)\n",
    "    error_array_GS.append(np.sqrt((Call_GS-price_bs)**2)/price_bs)\n",
    "    error_array_GS_SOR.append(np.sqrt((Call_GS_SOR-price_bs)**2)/price_bs)\n",
    "\n",
    "\n",
    "plt.figure()\n",
    "plt.plot(dS_array, error_array_LU, '--',label='LU')\n",
    "plt.plot(dS_array, error_array_GS, 'x',label='GS')\n",
    "plt.plot(dS_array, error_array_GS_SOR, '+',label='GS_SOR')\n",
    "plt.xlabel(r'$dS$')\n",
    "plt.ylabel('Error')\n",
    "plt.legend()\n",
    "plt.show()"
   ]
  },
  {
   "cell_type": "markdown",
   "id": "7d4c38ed",
   "metadata": {},
   "source": [
    "We see that the implicit methods remain stable across the range of $dS$"
   ]
  },
  {
   "cell_type": "markdown",
   "id": "8d8ae723",
   "metadata": {},
   "source": [
    "### Adjusting the Resolution of the Time Grid\n",
    "\n",
    "Here we fix the time grid resolution and vary that of the stock price. We investigate the stability and accuracy of the various finite-difference methods."
   ]
  },
  {
   "cell_type": "code",
   "execution_count": 79,
   "id": "6a682deb",
   "metadata": {},
   "outputs": [
    {
     "data": {
      "image/png": "[encoded data removed]",
      "text/plain": [
       "<Figure size 640x480 with 1 Axes>"
      ]
     },
     "metadata": {},
     "output_type": "display_data"
    }
   ],
   "source": [
    "option = 'call'\n",
    "\n",
    "if option == 'put':\n",
    "    sign = -1\n",
    "elif option == 'call':\n",
    "    sign = 1\n",
    "\n",
    "omega = 0.8\n",
    "epsil = 1e-6\n",
    "MaxIter = 1000\n",
    "\n",
    "Smax = 2000\n",
    "dS = 50\n",
    "\n",
    "price_bs = bs_price(S, K, r, T, sigma, option)\n",
    "\n",
    "dt_array = np.arange(T/1000,T/10,T/300)\n",
    "\n",
    "error_array_Explicit = []\n",
    "\n",
    "for dt in dt_array:\n",
    "    Call_Explicit = American_Option_Explicit_Dividend(S, K, r, T, sigma, Smax, dS, dt, option, dividend_time=0, dividend=0)[2]\n",
    "    error_array_Explicit.append(np.sqrt((Call_Explicit-price_bs)**2)/price_bs)\n",
    "\n",
    "plt.figure()\n",
    "plt.plot(dt_array, error_array_Explicit, 'x',label='Explicit')\n",
    "plt.xlabel(r'$dt$')\n",
    "plt.ylabel('Error')\n",
    "plt.legend()\n",
    "plt.show()"
   ]
  },
  {
   "cell_type": "markdown",
   "id": "a467af2a",
   "metadata": {},
   "source": [
    "We see that the explicit method is less affected by changes in time resolution, however, increasing the resolution of the grid(decreasiing dt) does increase errors slightly"
   ]
  },
  {
   "cell_type": "code",
   "execution_count": 81,
   "id": "523fe338",
   "metadata": {},
   "outputs": [
    {
     "data": {
      "image/png": "[encoded data removed]",
      "text/plain": [
       "<Figure size 640x480 with 1 Axes>"
      ]
     },
     "metadata": {},
     "output_type": "display_data"
    }
   ],
   "source": [
    "option = 'call'\n",
    "\n",
    "if option == 'put':\n",
    "    sign = -1\n",
    "elif option == 'call':\n",
    "    sign = 1\n",
    "\n",
    "omega = 0.8\n",
    "epsil = 1e-6\n",
    "MaxIter = 1000\n",
    "\n",
    "Smax = 2000\n",
    "dS = 50\n",
    "\n",
    "price_bs = bs_price(S, K, r, T, sigma, option)\n",
    "\n",
    "dt_array = np.arange(T/1000,T/10,T/300)\n",
    "\n",
    "error_array_Explicit = []\n",
    "error_array_LU = []\n",
    "error_array_GS = []\n",
    "error_array_GS_SOR = []\n",
    "\n",
    "for dt in dt_array:\n",
    "    Call_LU = American_Option_Implicit_LU(S, K, r, T, sigma, Smax, dS, dt, option)[2]\n",
    "    Call_GS = American_Option_Implicit_GS_Dividend(S, K, r, T, sigma, Smax, dS, dt, epsil, MaxIter, option, dividend_time=0, dividend=0)[2]\n",
    "    Call_GS_SOR = American_Option_Implicit_GS_SOR(S, K, r, T, sigma, Smax, dS, dt, omega, epsil,MaxIter,option)[2]\n",
    "    \n",
    "    \n",
    "    error_array_LU.append(np.sqrt((Call_LU-price_bs)**2)/price_bs)\n",
    "    error_array_GS.append(np.sqrt((Call_GS-price_bs)**2)/price_bs)\n",
    "    error_array_GS_SOR.append(np.sqrt((Call_GS_SOR-price_bs)**2)/price_bs)\n",
    "\n",
    "plt.figure()\n",
    "plt.plot(dt_array, error_array_LU, '--',label='LU')\n",
    "plt.plot(dt_array, error_array_GS, 'x',label='GS')\n",
    "plt.plot(dt_array, error_array_GS_SOR, '+',label='GS_SOR')\n",
    "plt.xlabel(r'$dt$')\n",
    "plt.ylabel('Error')\n",
    "plt.legend()\n",
    "plt.show()"
   ]
  },
  {
   "cell_type": "markdown",
   "id": "364737ec",
   "metadata": {},
   "source": [
    "When investigating the implicit methods, we find a decreasing error as the resolution is increased, as expected."
   ]
  },
  {
   "cell_type": "markdown",
   "id": "2a41e094",
   "metadata": {},
   "source": [
    "Choosing $dt = T/1000$ and $dS = 30$, lets compare call and put prices to their respective Black-Scholes prices:"
   ]
  },
  {
   "cell_type": "code",
   "execution_count": 84,
   "id": "98d11f6e",
   "metadata": {},
   "outputs": [
    {
     "name": "stdout",
     "output_type": "stream",
     "text": [
      "Explicit Call Price = 45.05406674172064 with error 0.002396291800003065\n",
      "LU Call Price = 45.0412874836551 with error 0.0026792548298958667\n",
      "GS Call Price = 45.03723263743883 with error 0.0027690387254256845\n",
      "GS SOR Call Price = 45.01345225557744 with error 0.003295592682548538\n"
     ]
    }
   ],
   "source": [
    "option = 'call'\n",
    "\n",
    "if option == 'put':\n",
    "    sign = -1\n",
    "elif option == 'call':\n",
    "    sign = 1\n",
    "\n",
    "omega = 0.8\n",
    "epsil = 1e-6\n",
    "MaxIter = 1000\n",
    "\n",
    "Smax = 2000\n",
    "dS = 30\n",
    "dt = T/1000\n",
    "\n",
    "price_bs = bs_price(S, K, r, T, sigma, option)\n",
    "\n",
    "Call_Explicit = American_Option_Explicit_Dividend(S, K, r, T, sigma, Smax, dS, dt, option, dividend_time=0, dividend=0)[2]\n",
    "error_Explicit = (np.sqrt((Call_Explicit-price_bs)**2)/price_bs)\n",
    "\n",
    "Call_LU = American_Option_Implicit_LU(S, K, r, T, sigma, Smax, dS, dt, option)[2]\n",
    "Call_GS = American_Option_Implicit_GS_Dividend(S, K, r, T, sigma, Smax, dS, dt, epsil, MaxIter, option, dividend_time=0, dividend=0)[2]\n",
    "Call_GS_SOR = American_Option_Implicit_GS_SOR(S, K, r, T, sigma, Smax, dS, dt, omega, epsil,MaxIter,option)[2]\n",
    "\n",
    "error_LU = (np.sqrt((Call_LU-price_bs)**2)/price_bs)\n",
    "error_GS = (np.sqrt((Call_GS-price_bs)**2)/price_bs)\n",
    "error_GS_SOR = (np.sqrt((Call_GS_SOR-price_bs)**2)/price_bs)\n",
    "\n",
    "print(f\"Explicit Call Price = {Call_Explicit} with error {error_Explicit}\")\n",
    "print(f\"LU Call Price = {Call_LU} with error {error_LU}\")\n",
    "print(f\"GS Call Price = {Call_GS} with error {error_GS}\")\n",
    "print(f\"GS SOR Call Price = {Call_GS_SOR} with error {error_GS_SOR}\")"
   ]
  },
  {
   "cell_type": "markdown",
   "id": "fbf2990d",
   "metadata": {},
   "source": [
    "We see that when we avoid the conditional instability of the explicit method, it has a lower error for call pricing comapred to the implicit methods "
   ]
  },
  {
   "cell_type": "code",
   "execution_count": 86,
   "id": "2e310ebe",
   "metadata": {},
   "outputs": [
    {
     "name": "stdout",
     "output_type": "stream",
     "text": [
      "Black-Scholes Put Price =  79.5298253471708\n",
      "Explicit Put Price = 81.61777734498764 \n",
      "LU Put Price = 81.59468121116804 \n",
      "GS Put Price = 81.59507358386595 \n",
      "GS SOR Put Price = 81.57491520621856\n"
     ]
    }
   ],
   "source": [
    "option = 'put'\n",
    "\n",
    "if option == 'put':\n",
    "    sign = -1\n",
    "elif option == 'call':\n",
    "    sign = 1\n",
    "\n",
    "omega = 0.8\n",
    "epsil = 1e-6\n",
    "MaxIter = 1000\n",
    "\n",
    "Smax = 2000\n",
    "dS = 30\n",
    "dt = T/1000\n",
    "\n",
    "price_bs = bs_price(S, K, r, T, sigma, option)\n",
    "\n",
    "Call_Explicit = American_Option_Explicit_Dividend(S, K, r, T, sigma, Smax, dS, dt, option, dividend_time=0, dividend=0)[2]\n",
    "error_Explicit = (np.sqrt((Call_Explicit-price_bs)**2)/price_bs)\n",
    "\n",
    "Call_LU = American_Option_Implicit_LU(S, K, r, T, sigma, Smax, dS, dt, option)[2]\n",
    "Call_GS = American_Option_Implicit_GS_Dividend(S, K, r, T, sigma, Smax, dS, dt, epsil, MaxIter, option, dividend_time=0, dividend=0)[2]\n",
    "Call_GS_SOR = American_Option_Implicit_GS_SOR(S, K, r, T, sigma, Smax, dS, dt, omega, epsil,MaxIter,option)[2]\n",
    "\n",
    "\n",
    "print(\"Black-Scholes Put Price = \", price_bs)\n",
    "print(f\"Explicit Put Price = {Call_Explicit} \")\n",
    "print(f\"LU Put Price = {Call_LU} \")\n",
    "print(f\"GS Put Price = {Call_GS} \")\n",
    "print(f\"GS SOR Put Price = {Call_GS_SOR}\")"
   ]
  },
  {
   "cell_type": "markdown",
   "id": "35a98a4d",
   "metadata": {},
   "source": [
    "## Pricing with a Dividend Payment\n",
    "\n",
    "We investigate dividend payments of $4\\%$ and $10\\%$ for the binomial, explicit, and Gauss-Seidel methods.\n",
    "\n",
    "### $q = 4\\%$"
   ]
  },
  {
   "cell_type": "code",
   "execution_count": 88,
   "id": "072fb15f",
   "metadata": {},
   "outputs": [],
   "source": [
    "div = 0.04\n",
    "div_time = T/2"
   ]
  },
  {
   "cell_type": "code",
   "execution_count": 93,
   "id": "ae3039d7",
   "metadata": {},
   "outputs": [
    {
     "name": "stdout",
     "output_type": "stream",
     "text": [
      "American Call Binomial Price =  45.13817091623564 \n",
      "\n",
      "American Call Binomial Price with Dividend =  29.705252733746256 \n",
      "\n",
      "American Call Explicit Price =  45.05406674172064 \n",
      "\n",
      "American Call Explicit Price with Dividend =  32.044058984159335 \n",
      "\n",
      "American Call GS Price =  45.03723263743883 \n",
      "\n",
      "American Call GS Price with Dividend =  32.0407922925602 \n",
      "\n"
     ]
    }
   ],
   "source": [
    "option='call' \n",
    "print(\"American Call Binomial Price = \",Binomial_American_Option_Dividend(S, K, r, T, sigma, dividend=0, dividend_time=0, n=1000, option='call'), \"\\n\")\n",
    "print(\"American Call Binomial Price with Dividend = \",Binomial_American_Option_Dividend(S, K, r, T, sigma, dividend=div, dividend_time=div_time, n=1000, option='call'), \"\\n\")\n",
    "\n",
    "print(\"American Call Explicit Price = \",American_Option_Explicit_Dividend(S, K, r, T, sigma, Smax, dS, dt, option, dividend_time=0, dividend=0)[2], \"\\n\")\n",
    "print(\"American Call Explicit Price with Dividend = \",American_Option_Explicit_Dividend(S, K, r, T, sigma, Smax, dS, dt, option, dividend_time=div_time, dividend=div)[2], \"\\n\")\n",
    "\n",
    "epsil = 1e-6\n",
    "MaxIter = 1000\n",
    "print(\"American Call GS Price = \",American_Option_Implicit_GS_Dividend(S, K, r, T, sigma, Smax, dS, dt, epsil, MaxIter, option, dividend_time=0, dividend=0)[2], \"\\n\")\n",
    "print(\"American Call GS Price with Dividend = \",American_Option_Implicit_GS_Dividend(S, K, r, T, sigma, Smax, dS, dt, epsil, MaxIter, option, dividend_time=div_time, dividend=div)[2], \"\\n\")"
   ]
  },
  {
   "cell_type": "code",
   "execution_count": 94,
   "id": "fe285b6b",
   "metadata": {},
   "outputs": [
    {
     "name": "stdout",
     "output_type": "stream",
     "text": [
      "American Put Binomial Price =  81.78801197453275 \n",
      "\n",
      "American Put Binomial Price with Dividend =  107.18758930648916 \n",
      "\n",
      "American Put Explicit Price =  81.61777734498764 \n",
      "\n",
      "American Put Explicit Price with Dividend =  108.81840164558199 \n",
      "\n",
      "American Put GS Price =  81.59507358386595 \n",
      "\n",
      "American Put GS Price with Dividend =  108.8076188277395 \n",
      "\n"
     ]
    }
   ],
   "source": [
    "option='put' \n",
    "print(\"American Put Binomial Price = \",Binomial_American_Option_Dividend(S, K, r, T, sigma, dividend=0, dividend_time=0, n=1000, option='put'), \"\\n\")\n",
    "print(\"American Put Binomial Price with Dividend = \",Binomial_American_Option_Dividend(S, K, r, T, sigma, dividend=div, dividend_time=div_time, n=1000, option='put'), \"\\n\")\n",
    "\n",
    "print(\"American Put Explicit Price = \",American_Option_Explicit_Dividend(S, K, r, T, sigma, Smax, dS, dt, option, dividend_time=0, dividend=0)[2], \"\\n\")\n",
    "print(\"American Put Explicit Price with Dividend = \",American_Option_Explicit_Dividend(S, K, r, T, sigma, Smax, dS, dt, option, dividend_time=div_time, dividend=div)[2], \"\\n\")\n",
    "\n",
    "epsil = 1e-6\n",
    "MaxIter = 1000\n",
    "print(\"American Put GS Price = \",American_Option_Implicit_GS_Dividend(S, K, r, T, sigma, Smax, dS, dt, epsil, MaxIter, option, dividend_time=0, dividend=0)[2], \"\\n\")\n",
    "print(\"American Put GS Price with Dividend = \",American_Option_Implicit_GS_Dividend(S, K, r, T, sigma, Smax, dS, dt, epsil, MaxIter, option, dividend_time=div_time, dividend=div)[2], \"\\n\")"
   ]
  },
  {
   "cell_type": "markdown",
   "id": "2a31ac03",
   "metadata": {},
   "source": [
    "We can see that introducing a dividend decreases the price of the call and increases the price of the put. This is because we are effectively reducing the value of the stock while under the option contract."
   ]
  },
  {
   "cell_type": "markdown",
   "id": "e325d578",
   "metadata": {},
   "source": [
    "### $q = 10\\%$"
   ]
  },
  {
   "cell_type": "code",
   "execution_count": 96,
   "id": "a15077e4",
   "metadata": {},
   "outputs": [],
   "source": [
    "div = 0.1\n",
    "div_time = T/2"
   ]
  },
  {
   "cell_type": "code",
   "execution_count": 97,
   "id": "ca04a2d5",
   "metadata": {},
   "outputs": [
    {
     "name": "stdout",
     "output_type": "stream",
     "text": [
      "American Call Binomial Price =  45.13817091623564 \n",
      "\n",
      "American Call Binomial Price with Dividend =  13.918517283552665 \n",
      "\n",
      "American Call Explicit Price =  45.05406674172064 \n",
      "\n",
      "American Call Explicit Price with Dividend =  18.2859457870488 \n",
      "\n",
      "American Call GS Price =  45.03723263743883 \n",
      "\n",
      "American Call GS Price with Dividend =  18.298419354515268 \n",
      "\n"
     ]
    }
   ],
   "source": [
    "option='call' \n",
    "print(\"American Call Binomial Price = \",Binomial_American_Option_Dividend(S, K, r, T, sigma, dividend=0, dividend_time=0, n=1000, option='call'), \"\\n\")\n",
    "print(\"American Call Binomial Price with Dividend = \",Binomial_American_Option_Dividend(S, K, r, T, sigma, dividend=div, dividend_time=div_time, n=1000, option='call'), \"\\n\")\n",
    "\n",
    "print(\"American Call Explicit Price = \",American_Option_Explicit_Dividend(S, K, r, T, sigma, Smax, dS, dt, option, dividend_time=0, dividend=0)[2], \"\\n\")\n",
    "print(\"American Call Explicit Price with Dividend = \",American_Option_Explicit_Dividend(S, K, r, T, sigma, Smax, dS, dt, option, dividend_time=div_time, dividend=div)[2], \"\\n\")\n",
    "\n",
    "epsil = 1e-6\n",
    "MaxIter = 1000\n",
    "print(\"American Call GS Price = \",American_Option_Implicit_GS_Dividend(S, K, r, T, sigma, Smax, dS, dt, epsil, MaxIter, option, dividend_time=0, dividend=0)[2], \"\\n\")\n",
    "print(\"American Call GS Price with Dividend = \",American_Option_Implicit_GS_Dividend(S, K, r, T, sigma, Smax, dS, dt, epsil, MaxIter, option, dividend_time=div_time, dividend=div)[2], \"\\n\")"
   ]
  },
  {
   "cell_type": "code",
   "execution_count": 98,
   "id": "8b85691b",
   "metadata": {},
   "outputs": [
    {
     "name": "stdout",
     "output_type": "stream",
     "text": [
      "American Put Binomial Price =  81.78801197453275 \n",
      "\n",
      "American Put Binomial Price with Dividend =  153.57016337452282 \n",
      "\n",
      "American Put Explicit Price =  81.61777734498764 \n",
      "\n",
      "American Put Explicit Price with Dividend =  156.15195021774096 \n",
      "\n",
      "American Put GS Price =  81.59507358386595 \n",
      "\n",
      "American Put GS Price with Dividend =  156.15518056739646 \n",
      "\n"
     ]
    }
   ],
   "source": [
    "option='put' \n",
    "print(\"American Put Binomial Price = \",Binomial_American_Option_Dividend(S, K, r, T, sigma, dividend=0, dividend_time=0, n=1000, option='put'), \"\\n\")\n",
    "print(\"American Put Binomial Price with Dividend = \",Binomial_American_Option_Dividend(S, K, r, T, sigma, dividend=div, dividend_time=div_time, n=1000, option='put'), \"\\n\")\n",
    "\n",
    "print(\"American Put Explicit Price = \",American_Option_Explicit_Dividend(S, K, r, T, sigma, Smax, dS, dt, option, dividend_time=0, dividend=0)[2], \"\\n\")\n",
    "print(\"American Put Explicit Price with Dividend = \",American_Option_Explicit_Dividend(S, K, r, T, sigma, Smax, dS, dt, option, dividend_time=div_time, dividend=div)[2], \"\\n\")\n",
    "\n",
    "epsil = 1e-6\n",
    "MaxIter = 1000\n",
    "print(\"American Put GS Price = \",American_Option_Implicit_GS_Dividend(S, K, r, T, sigma, Smax, dS, dt, epsil, MaxIter, option, dividend_time=0, dividend=0)[2], \"\\n\")\n",
    "print(\"American Put GS Price with Dividend = \",American_Option_Implicit_GS_Dividend(S, K, r, T, sigma, Smax, dS, dt, epsil, MaxIter, option, dividend_time=div_time, dividend=div)[2], \"\\n\")"
   ]
  },
  {
   "cell_type": "markdown",
   "id": "2a77b342",
   "metadata": {},
   "source": [
    "Increasing the dividend payment further decreases the call price and further increases the put price, intuitively."
   ]
  },
  {
   "cell_type": "markdown",
   "id": "1a182dfd",
   "metadata": {},
   "source": [
    "# Conclusions\n",
    "\n",
    "To conclude, we developed various methods of calculating American call and put prices. Of these methods, the implicit methods are most promising as they remain stable, in comparison to explicit methods, when increasing the resolution of the finite-difference grids, thus being more accurate. The binomial model is also good, but can have a high computational cost and it's performance tends to plateau when increasing the number of nodes.\n",
    "\n",
    "An optimal $\\omega \\approx 0.8$ was also found for the succesive over-relaxation Gauss-Seidel method.\n",
    "\n",
    "We also found that introducing a dividend payment decreased the call price and increased the put price as expected."
   ]
  }
 ],
 "metadata": {
  "kernelspec": {
   "display_name": "Python 3 (ipykernel)",
   "language": "python",
   "name": "python3"
  },
  "language_info": {
   "codemirror_mode": {
    "name": "ipython",
    "version": 3
   },
   "file_extension": ".py",
   "mimetype": "text/x-python",
   "name": "python",
   "nbconvert_exporter": "python",
   "pygments_lexer": "ipython3",
   "version": "3.10.10"
  }
 },
 "nbformat": 4,
 "nbformat_minor": 5
}
